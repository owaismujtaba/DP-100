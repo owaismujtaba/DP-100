{
 "cells": [
  {
   "cell_type": "code",
   "execution_count": 19,
   "id": "26fef994-6d58-4311-a86f-4f5064e86253",
   "metadata": {},
   "outputs": [],
   "source": [
    "from azure.ai.ml import MLClient\n",
    "from azure.identity import DefaultAzureCredential"
   ]
  },
  {
   "cell_type": "code",
   "execution_count": 20,
   "id": "33e7a55e-1549-43e0-9501-cf4689252317",
   "metadata": {},
   "outputs": [],
   "source": [
    "credentials = DefaultAzureCredential()\n",
    "subscription_id = \"3da21cf8-3fb********bc14b55e\"\n",
    "resource_group = \"DP-100\""
   ]
  },
  {
   "cell_type": "code",
   "execution_count": 21,
   "id": "7032cef8-1399-46cc-8b76-bcc468ee8fb0",
   "metadata": {},
   "outputs": [],
   "source": [
    "ml_client = MLClient(credential=credentials, subscription_id=subscription_id, resource_group_name=resource_group)"
   ]
  },
  {
   "cell_type": "code",
   "execution_count": 28,
   "id": "ff63dc01-b251-4d60-99b7-245ad00d68e7",
   "metadata": {},
   "outputs": [
    {
     "name": "stderr",
     "output_type": "stream",
     "text": [
      "The deployment request demo-workspace-1-9579522 was accepted. ARM deployment URI for reference: \n",
      "https://portal.azure.com//#blade/HubsExtension/DeploymentDetailsBlade/overview/id/%2Fsubscriptions%2F3da21cf8-3fb5-4f9f-b52f-5beabc14b55e%2FresourceGroups%2FDP-100%2Fproviders%2FMicrosoft.Resources%2Fdeployments%2Fdemo-workspace-1-9579522\n"
     ]
    },
    {
     "data": {
      "text/plain": [
       "<azure.core.polling._poller.LROPoller at 0x7fe46406c670>"
      ]
     },
     "execution_count": 28,
     "metadata": {},
     "output_type": "execute_result"
    }
   ],
   "source": [
    "from azure.ai.ml.entities import Workspace\n",
    "\n",
    "workspace_name = 'demo-workspace-1'\n",
    "display_name = 'demo-workspace-1'\n",
    "location = 'eastus'\n",
    "\n",
    "workspace_create = Workspace(name=workspace_name,\n",
    "                             display_name=display_name,\n",
    "                             location=location)\n",
    "ml_client.workspaces.begin_create(workspace_create)\n"
   ]
  },
  {
   "cell_type": "code",
   "execution_count": 29,
   "id": "726b89b4-241b-4fda-928a-5a5e6cb6658d",
   "metadata": {},
   "outputs": [
    {
     "name": "stdout",
     "output_type": "stream",
     "text": [
      "DP-100-Workspace eastus\n",
      "workspace-1 eastus\n",
      "workspace-2 eastus\n",
      "demo-workspace-1 eastus\n"
     ]
    }
   ],
   "source": [
    "for item in ml_client.workspaces.list():\n",
    "    print(item.name, item.location)"
   ]
  },
  {
   "cell_type": "code",
   "execution_count": 30,
   "id": "71b6f74e-84e9-4fe3-b54e-ed15119b78c6",
   "metadata": {},
   "outputs": [
    {
     "name": "stderr",
     "output_type": "stream",
     "text": [
      "Delete request initiated for workspace: demo-workspace-1\n",
      "\n"
     ]
    }
   ],
   "source": [
    "ml_client.workspaces.begin_delete(name=workspace_name, delete_dependent_resources=True).result()"
   ]
  },
  {
   "cell_type": "code",
   "execution_count": 31,
   "id": "bf4ea595-76d1-450f-a155-b26556ce12c3",
   "metadata": {},
   "outputs": [
    {
     "name": "stdout",
     "output_type": "stream",
     "text": [
      "DP-100-Workspace eastus\n",
      "workspace-1 eastus\n",
      "workspace-2 eastus\n"
     ]
    }
   ],
   "source": [
    "for item in ml_client.workspaces.list():\n",
    "    print(item.name, item.location)"
   ]
  },
  {
   "cell_type": "code",
   "execution_count": null,
   "id": "76864263-2c37-458e-a793-95082cb1075d",
   "metadata": {},
   "outputs": [],
   "source": []
  }
 ],
 "metadata": {
  "kernelspec": {
   "display_name": "Python 3.8 - AzureML",
   "language": "python",
   "name": "python38-azureml"
  },
  "language_info": {
   "codemirror_mode": {
    "name": "ipython",
    "version": 3
   },
   "file_extension": ".py",
   "mimetype": "text/x-python",
   "name": "python",
   "nbconvert_exporter": "python",
   "pygments_lexer": "ipython3",
   "version": "3.8.5"
  }
 },
 "nbformat": 4,
 "nbformat_minor": 5
}
