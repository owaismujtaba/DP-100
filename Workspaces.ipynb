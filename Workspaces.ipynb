{
 "cells": [
  {
   "cell_type": "code",
   "execution_count": 4,
   "id": ""255ec2f9-0d41-4b22-96ac-564959fa644f",
   "metadata": {},
   "outputs": [],
   "source": [
    "from azure.ai.ml import MLClient\n",
    "from azure.identity import DefaultAzureCredential\n",
    "from azure.ai.ml.entities import Workspace"
   ]
  },
  {
   "cell_type": "code",
   "execution_count": 2,
   "id": "106491cf-f03b-45d0-a30c-dd26dfe2baa7",
   "metadata": {},
   "outputs": [],
   "source": [
    "# To connect to Machine Learning Azure you need Subscription ID and a Research Group\n",
    "subscription_id = \"3da21cf8-3fb5-4f9f-b52f-5beabc14b55e\"\n",
    "resource_group = \"DP-100\""
   ]
  },
  {
   "cell_type": "code",
   "execution_count": 3,
   "id": "fa7383c2-005f-4942-a71d-b303684079eb",
   "metadata": {},
   "outputs": [],
   "source": [
    "credentials = DefaultAzureCredential()\n",
    "ml_client = MLClient(credential=credentials, subscription_id=subscription_id, resource_group_name=resource_group)"
   ]
  },
  {
   "cell_type": "code",
   "execution_count": 6,
   "id": "faac014d-11fa-4151-9b30-499f0b0007a3",
   "metadata": {},
   "outputs": [],
   "source": [
    "# Creating a workspace using Python SDKV2\n",
    "workspace_name = 'workspace-1'\n",
    "location = 'eastus'\n",
    "display_name = 'workspace-1'\n",
    "description = 'Creating workspace from the SDKv2'\n",
    "\n",
    "\n",
    "workspace = Workspace(name=workspace_name,\n",
    "                      location=location,\n",
    "                      display_name=display_name,\n",
    "                      description=description)\n"
   ]
  },
  {
   "cell_type": "code",
   "execution_count": 7,
   "id": "e5d3d0ff-929f-49fa-82fd-bdcfc7a79f6b",
   "metadata": {},
   "outputs": [
    {
     "name": "stderr",
     "output_type": "stream",
     "text": [
      "Class ManagedNetwork: This is an experimental class, and may change at any time. Please see https://aka.ms/azuremlexperimental for more information.\n",
      "The deployment request workspace-1-2313409 was accepted. ARM deployment URI for reference: \n",
      "https://portal.azure.com//#blade/HubsExtension/DeploymentDetailsBlade/overview/id/%2Fsubscriptions%2F3da21cf8-3fb5-4f9f-b52f-5beabc14b55e%2FresourceGroups%2FDP-100%2Fproviders%2FMicrosoft.Resources%2Fdeployments%2Fworkspace-1-2313409\n",
      "Creating Log Analytics Workspace: (workspaclogalytib9494466  ) ..  Done (19s)\n",
      "Creating Application Insights: (workspacinsights8f9f1dac  )  Done (25s)\n",
      "Creating Key Vault: (workspackeyvault5f18c86c  )   Done (27s)\n",
      "Creating Storage Account: (workspacstorageb80806e62  )  Done (23s)\n",
      "Creating AzureML Workspace: (workspace-1  ) ..  Done (25s)\n",
      "Total time : 54s\n",
      "\n",
      "Class ManagedNetworkSchema: This is an experimental class, and may change at any time. Please see https://aka.ms/azuremlexperimental for more information.\n",
      "Class ManagedNetworkStatusSchema: This is an experimental class, and may change at any time. Please see https://aka.ms/azuremlexperimental for more information.\n"
     ]
    },
    {
     "name": "stdout",
     "output_type": "stream",
     "text": [
      "application_insights: /subscriptions/3da21cf8-3fb5-4f9f-b52f-5beabc14b55e/resourceGroups/DP-100/providers/Microsoft.insights/components/workspacinsights8f9f1dac\n",
      "description: Creating workspace from the SDKv2\n",
      "discovery_url: https://eastus.api.azureml.ms/discovery\n",
      "display_name: workspace-1\n",
      "enable_data_isolation: false\n",
      "hbi_workspace: false\n",
      "id: /subscriptions/3da21cf8-3fb5-4f9f-b52f-5beabc14b55e/resourceGroups/DP-100/providers/Microsoft.MachineLearningServices/workspaces/workspace-1\n",
      "identity:\n",
      "  principal_id: 54cdab64-5e09-4e06-b4b3-513f359d37c7\n",
      "  tenant_id: cb9f4ba9-b44b-4ff7-a313-fc634986d3e0\n",
      "  type: system_assigned\n",
      "key_vault: /subscriptions/3da21cf8-3fb5-4f9f-b52f-5beabc14b55e/resourceGroups/DP-100/providers/Microsoft.Keyvault/vaults/workspackeyvault5f18c86c\n",
      "location: eastus\n",
      "managed_network:\n",
      "  isolation_mode: disabled\n",
      "  outbound_rules: []\n",
      "mlflow_tracking_uri: azureml://eastus.api.azureml.ms/mlflow/v1.0/subscriptions/3da21cf8-3fb5-4f9f-b52f-5beabc14b55e/resourceGroups/DP-100/providers/Microsoft.MachineLearningServices/workspaces/workspace-1\n",
      "name: workspace-1\n",
      "public_network_access: Enabled\n",
      "resource_group: DP-100\n",
      "storage_account: /subscriptions/3da21cf8-3fb5-4f9f-b52f-5beabc14b55e/resourceGroups/DP-100/providers/Microsoft.Storage/storageAccounts/workspacstorageb80806e62\n",
      "tags:\n",
      "  createdByToolkit: sdk-v2-1.8.0\n",
      "\n"
     ]
    }
   ],
   "source": [
    "workspace1 = ml_client.workspaces.begin_create(workspace).result()\n",
    "print(workspace1)"
   ]
  },
  {
   "cell_type": "code",
   "execution_count": 9,
   "id": "c42d747d-8001-414e-834d-7b0a81a45d40",
   "metadata": {},
   "outputs": [
    {
     "name": "stderr",
     "output_type": "stream",
     "text": [
      "The deployment request workspace-2-1952818 was accepted. ARM deployment URI for reference: \n",
      "https://portal.azure.com//#blade/HubsExtension/DeploymentDetailsBlade/overview/id/%2Fsubscriptions%2F3da21cf8-3fb5-4f9f-b52f-5beabc14b55e%2FresourceGroups%2FDP-100%2Fproviders%2FMicrosoft.Resources%2Fdeployments%2Fworkspace-2-1952818\n",
      "Creating AzureML Workspace: (workspace-2  ) ..  Done (24s)\n",
      "Total time : 26s\n",
      "\n"
     ]
    },
    {
     "name": "stdout",
     "output_type": "stream",
     "text": [
      "application_insights: /subscriptions/3da21cf8-3fb5-4f9f-b52f-5beabc14b55e/resourceGroups/DP-100/providers/Microsoft.insights/components/workspacinsights8f9f1dac\n",
      "description: Created using workspace 1\n",
      "discovery_url: https://eastus.api.azureml.ms/discovery\n",
      "display_name: workspace-2\n",
      "enable_data_isolation: false\n",
      "hbi_workspace: false\n",
      "id: /subscriptions/3da21cf8-3fb5-4f9f-b52f-5beabc14b55e/resourceGroups/DP-100/providers/Microsoft.MachineLearningServices/workspaces/workspace-2\n",
      "identity:\n",
      "  principal_id: 8dc3054e-0b30-4e31-8b28-0ee4f2a8d0f9\n",
      "  tenant_id: cb9f4ba9-b44b-4ff7-a313-fc634986d3e0\n",
      "  type: system_assigned\n",
      "key_vault: /subscriptions/3da21cf8-3fb5-4f9f-b52f-5beabc14b55e/resourceGroups/DP-100/providers/Microsoft.Keyvault/vaults/workspackeyvault5f18c86c\n",
      "location: eastus\n",
      "managed_network:\n",
      "  isolation_mode: disabled\n",
      "  outbound_rules: []\n",
      "mlflow_tracking_uri: azureml://eastus.api.azureml.ms/mlflow/v1.0/subscriptions/3da21cf8-3fb5-4f9f-b52f-5beabc14b55e/resourceGroups/DP-100/providers/Microsoft.MachineLearningServices/workspaces/workspace-2\n",
      "name: workspace-2\n",
      "public_network_access: Enabled\n",
      "resource_group: DP-100\n",
      "storage_account: /subscriptions/3da21cf8-3fb5-4f9f-b52f-5beabc14b55e/resourceGroups/DP-100/providers/Microsoft.Storage/storageAccounts/workspacstorageb80806e62\n",
      "tags:\n",
      "  createdByToolkit: sdk-v2-1.8.0\n",
      "\n"
     ]
    }
   ],
   "source": [
    "# Creating workspace with existing resources\n",
    "# Whenever a workspace is created 4 things are created by default\n",
    "#    --storage account\n",
    "#    --container registry\n",
    "#    --key vault \n",
    "#    --application insights\n",
    "\n",
    "# We can create a workspace by explicity giving these arguments \n",
    "\n",
    "\n",
    "storage_account = workspace1.storage_account\n",
    "container_registery = workspace1.container_registry\n",
    "key_valut = workspace1.key_vault\n",
    "application_insights = workspace1.application_insights\n",
    "\n",
    "workspace2 = Workspace(name='workspace-2',\n",
    "                       location=location,\n",
    "                       display_name='workspace-2',\n",
    "                       description='Created using workspace 1',\n",
    "                       storage_account=storage_account,\n",
    "                       container_registry=container_registery,\n",
    "                       key_vault=key_valut,\n",
    "                       application_insights=application_insights)\n",
    "\n",
    "workspace2 = ml_client.begin_create_or_update(workspace2).result()\n",
    "print(workspace2)"
   ]
  },
  {
   "cell_type": "code",
   "execution_count": 11,
   "id": "04f20764-ba6f-4a42-83cd-c732d4e2040b",
   "metadata": {},
   "outputs": [
    {
     "name": "stdout",
     "output_type": "stream",
     "text": [
      "Name: DP-100-Workspace ::: Location: eastus\n",
      "Name: demo-ws ::: Location: eastus\n",
      "Name: workspace-1 ::: Location: eastus\n",
      "Name: workspace-2 ::: Location: eastus\n"
     ]
    }
   ],
   "source": [
    "# Get the list of all the workspaces in the research group\n",
    "# To load any workspace supply subssubscription_id , resource_group and workspace to MLClient\n",
    "ml_client = MLClient(DefaultAzureCredential(), subscription_id=subscription_id, resource_group_name=resource_group)\n",
    "\n",
    "for workspace  in ml_client.workspaces.list():\n",
    "    print('Name: {} ::: Location: {}'.format(workspace.name, workspace.location))"
   ]
  },
  {
   "cell_type": "code",
   "execution_count": 12,
   "id": "d62683ac-b127-47f7-8601-40f5fc369aca",
   "metadata": {},
   "outputs": [
    {
     "data": {
      "text/plain": [
       "<azure.core.polling._poller.LROPoller at 0x7ff6b2283b80>"
      ]
     },
     "execution_count": 12,
     "metadata": {},
     "output_type": "execute_result"
    },
    {
     "name": "stderr",
     "output_type": "stream",
     "text": [
      "Delete request initiated for workspace: demo-ws\n",
      "\n"
     ]
    }
   ],
   "source": [
    "# to delete a workspace\n",
    "ml_client.workspaces.begin_delete(name='demo-ws', delete_dependent_resources=True)"
   ]
  },
  {
   "cell_type": "code",
   "execution_count": null,
   "id": "8c000f17-d841-4fd4-9863-dee443668e0f",
   "metadata": {},
   "outputs": [],
   "source": []
  }
 ],
 "metadata": {
  "kernelspec": {
   "display_name": "Python 3.8 - AzureML",
   "language": "python",
   "name": "python38-azureml"
  },
  "language_info": {
   "codemirror_mode": {
    "name": "ipython",
    "version": 3
   },
   "file_extension": ".py",
   "mimetype": "text/x-python",
   "name": "python",
   "nbconvert_exporter": "python",
   "pygments_lexer": "ipython3",
   "version": "3.8.5"
  }
 },
 "nbformat": 4,
 "nbformat_minor": 5
}
