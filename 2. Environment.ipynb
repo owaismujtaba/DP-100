{
 "cells": [
  {
   "cell_type": "code",
   "execution_count": 3,
   "id": "effc9632-d967-4c1b-b983-9de5e74a52fb",
   "metadata": {},
   "outputs": [],
   "source": [
    "from azure.ai.ml import MLClient\n",
    "import os\n",
    "from azure.identity import DefaultAzureCredential"
   ]
  },
  {
   "cell_type": "code",
   "execution_count": 4,
   "id": "75815919-ad02-4eaa-92d4-65d1906f45bd",
   "metadata": {},
   "outputs": [],
   "source": [
    "credentials = DefaultAzureCredential()\n",
    "subscription_id = \"3da21cf8-3fb******2f-5beabc14b55e\"\n",
    "resource_group = \"DP-100\""
   ]
  },
  {
   "cell_type": "code",
   "execution_count": 5,
   "id": "46a7e110-fb3d-4830-88f6-8a516270384f",
   "metadata": {},
   "outputs": [
    {
     "name": "stdout",
     "output_type": "stream",
     "text": [
      "DP-100-Workspace eastus\n",
      "workspace-1 eastus\n",
      "workspace-2 eastus\n"
     ]
    }
   ],
   "source": [
    "ml_client = MLClient(credential=credentials, subscription_id=subscription_id, resource_group_name=resource_group)\n",
    "for item in ml_client.workspaces.list():\n",
    "    print(item.name, item.location)"
   ]
  },
  {
   "cell_type": "code",
   "execution_count": 11,
   "id": "de6f1d0f-b203-457e-9f24-e67e8faff0fc",
   "metadata": {},
   "outputs": [
    {
     "data": {
      "text/plain": [
       "'workspace-2'"
      ]
     },
     "execution_count": 11,
     "metadata": {},
     "output_type": "execute_result"
    }
   ],
   "source": [
    "ml_client = MLClient(DefaultAzureCredential(), subscription_id, resource_group, 'workspace-2')\n",
    "ml_client.workspace_name"
   ]
  },
  {
   "cell_type": "code",
   "execution_count": 20,
   "id": "6fc391cc-73ec-47ae-b1cc-6cd169e6a01f",
   "metadata": {},
   "outputs": [],
   "source": [
    "dependencies_dir = './dependencies'\n",
    "os.makedirs(dependencies_dir, exist_ok=True)"
   ]
  },
  {
   "cell_type": "code",
   "execution_count": 21,
   "id": "a567d709-9381-4c9b-8dfd-b5fa246e7cab",
   "metadata": {},
   "outputs": [
    {
     "name": "stdout",
     "output_type": "stream",
     "text": [
      "Writing ./dependencies/conda.yaml\n"
     ]
    }
   ],
   "source": [
    "%%writefile {dependencies_dir}/conda.yaml\n",
    "name: model-env\n",
    "channels:\n",
    "  - conda-forge\n",
    "dependencies:\n",
    "  - python=3.8\n",
    "  - numpy=1.21.2\n",
    "  - pip=21.2.4\n",
    "  - scikit-learn=0.24.2\n",
    "  - scipy=1.7.1\n",
    "  - pandas>=1.1,<1.2\n",
    "  - pip:\n",
    "    - inference-schema[numpy-support]==1.3.0\n",
    "    - xlrd==2.0.1\n",
    "    - mlflow== 1.26.1\n",
    "    - azureml-mlflow==1.42.0"
   ]
  },
  {
   "cell_type": "code",
   "execution_count": 14,
   "id": "6c7cbd25-b267-4fe6-a5c8-70925241c0d8",
   "metadata": {},
   "outputs": [],
   "source": [
    "from azure.ai.ml.entities import Environment\n",
    "environement_name = 'demo-env-1'\n",
    "environment = Environment(name=environement_name,\n",
    "                          description='Environment Creation Learning',\n",
    "                          tags={'Scikit-learn':'0.24.2', 'scipy':'1.7.1'},\n",
    "                          conda_file=os.path.join(dependencies_dir, 'conda.yaml'),\n",
    "                          image='mcr.microsoft.com/azureml/openmpi4.1.0-ubuntu20.04:latest',\n",
    "                          version='0.1')"
   ]
  },
  {
   "cell_type": "code",
   "execution_count": 16,
   "id": "7466ca50-8dc0-4ea4-9bcc-a8c84c3b13b5",
   "metadata": {},
   "outputs": [
    {
     "data": {
      "text/plain": [
       "Environment({'intellectual_property': None, 'is_anonymous': False, 'auto_increment_version': False, 'auto_delete_setting': None, 'name': 'demo-env-1', 'description': 'Environment Creation Learning', 'tags': {'Scikit-learn': '0.24.2', 'scipy': '1.7.1'}, 'properties': {}, 'print_as_yaml': True, 'id': '/subscriptions/3da21cf8-3fb5-4f9f-b52f-5beabc14b55e/resourceGroups/DP-100/providers/Microsoft.MachineLearningServices/workspaces/workspace-2/environments/demo-env-1/versions/0.1', 'Resource__source_path': None, 'base_path': '/mnt/batch/tasks/shared/LS_root/mounts/clusters/dp-100-compute-instance/code/Users/owais.mujtaba123/DP100/Learning', 'creation_context': <azure.ai.ml.entities._system_data.SystemData object at 0x7f86b052fc70>, 'serialize': <msrest.serialization.Serializer object at 0x7f86b97587c0>, 'version': '0.1', 'latest_version': None, 'conda_file': {'channels': ['conda-forge'], 'dependencies': ['python=3.8', 'numpy=1.21.2', 'pip=21.2.4', 'scikit-learn=0.24.2', 'scipy=1.7.1', 'pandas>=1.1,<1.2', {'pip': ['inference-schema[numpy-support]==1.3.0', 'xlrd==2.0.1', 'mlflow== 1.26.1', 'azureml-mlflow==1.42.0']}], 'name': 'model-env'}, 'image': 'mcr.microsoft.com/azureml/openmpi4.1.0-ubuntu20.04:latest', 'build': None, 'inference_config': None, 'os_type': 'Linux', 'arm_type': 'environment_version', 'conda_file_path': None, 'path': None, 'datastore': None, 'upload_hash': None, 'translated_conda_file': '{\\n  \"channels\": [\\n    \"conda-forge\"\\n  ],\\n  \"dependencies\": [\\n    \"python=3.8\",\\n    \"numpy=1.21.2\",\\n    \"pip=21.2.4\",\\n    \"scikit-learn=0.24.2\",\\n    \"scipy=1.7.1\",\\n    \"pandas>=1.1,<1.2\",\\n    {\\n      \"pip\": [\\n        \"inference-schema[numpy-support]==1.3.0\",\\n        \"xlrd==2.0.1\",\\n        \"mlflow== 1.26.1\",\\n        \"azureml-mlflow==1.42.0\"\\n      ]\\n    }\\n  ],\\n  \"name\": \"model-env\"\\n}'})"
      ]
     },
     "execution_count": 16,
     "metadata": {},
     "output_type": "execute_result"
    }
   ],
   "source": [
    "ml_client.environments.create_or_update(environment)"
   ]
  },
  {
   "cell_type": "code",
   "execution_count": 17,
   "id": "69715c3d-8db4-4786-9f03-b106d91d03d5",
   "metadata": {},
   "outputs": [
    {
     "name": "stdout",
     "output_type": "stream",
     "text": [
      "demo-env-1\n",
      "AzureML-ACPT-pytorch-1.13-py38-cuda11.7-gpu\n",
      "AzureML-ACPT-pytorch-1.12-py38-cuda11.6-gpu\n",
      "AzureML-ACPT-pytorch-1.12-py39-cuda11.6-gpu\n",
      "AzureML-ACPT-pytorch-1.11-py38-cuda11.5-gpu\n",
      "AzureML-ACPT-pytorch-1.11-py38-cuda11.3-gpu\n",
      "AzureML-responsibleai-0.21-ubuntu20.04-py38-cpu\n",
      "AzureML-responsibleai-0.20-ubuntu20.04-py38-cpu\n",
      "AzureML-tensorflow-2.5-ubuntu20.04-py38-cuda11-gpu\n",
      "AzureML-tensorflow-2.6-ubuntu20.04-py38-cuda11-gpu\n",
      "AzureML-tensorflow-2.7-ubuntu20.04-py38-cuda11-gpu\n",
      "AzureML-sklearn-1.0-ubuntu20.04-py38-cpu\n",
      "AzureML-pytorch-1.10-ubuntu18.04-py38-cuda11-gpu\n",
      "AzureML-pytorch-1.9-ubuntu18.04-py37-cuda11-gpu\n",
      "AzureML-pytorch-1.8-ubuntu18.04-py37-cuda11-gpu\n",
      "AzureML-sklearn-0.24-ubuntu18.04-py37-cpu\n",
      "AzureML-lightgbm-3.2-ubuntu18.04-py37-cpu\n",
      "AzureML-pytorch-1.7-ubuntu18.04-py37-cuda11-gpu\n",
      "AzureML-tensorflow-2.4-ubuntu18.04-py37-cuda11-gpu\n",
      "AzureML-Triton\n",
      "AzureML-Designer-Score\n",
      "AzureML-VowpalWabbit-8.8.0\n",
      "AzureML-PyTorch-1.3-CPU\n"
     ]
    }
   ],
   "source": [
    "for env in ml_client.environments.list():\n",
    "    print(env.name)"
   ]
  },
  {
   "cell_type": "code",
   "execution_count": 18,
   "id": "25b1d15c-3bad-4452-8a31-2abaf5e31150",
   "metadata": {},
   "outputs": [],
   "source": [
    "ml_client.environments.archive(name=environement_name)"
   ]
  },
  {
   "cell_type": "code",
   "execution_count": 19,
   "id": "ef951baa-d418-45d9-94f9-9bd9201d7d71",
   "metadata": {},
   "outputs": [
    {
     "name": "stdout",
     "output_type": "stream",
     "text": [
      "AzureML-ACPT-pytorch-1.13-py38-cuda11.7-gpu\n",
      "AzureML-ACPT-pytorch-1.12-py38-cuda11.6-gpu\n",
      "AzureML-ACPT-pytorch-1.12-py39-cuda11.6-gpu\n",
      "AzureML-ACPT-pytorch-1.11-py38-cuda11.5-gpu\n",
      "AzureML-ACPT-pytorch-1.11-py38-cuda11.3-gpu\n",
      "AzureML-responsibleai-0.21-ubuntu20.04-py38-cpu\n",
      "AzureML-responsibleai-0.20-ubuntu20.04-py38-cpu\n",
      "AzureML-tensorflow-2.5-ubuntu20.04-py38-cuda11-gpu\n",
      "AzureML-tensorflow-2.6-ubuntu20.04-py38-cuda11-gpu\n",
      "AzureML-tensorflow-2.7-ubuntu20.04-py38-cuda11-gpu\n",
      "AzureML-sklearn-1.0-ubuntu20.04-py38-cpu\n",
      "AzureML-pytorch-1.10-ubuntu18.04-py38-cuda11-gpu\n",
      "AzureML-pytorch-1.9-ubuntu18.04-py37-cuda11-gpu\n",
      "AzureML-pytorch-1.8-ubuntu18.04-py37-cuda11-gpu\n",
      "AzureML-sklearn-0.24-ubuntu18.04-py37-cpu\n",
      "AzureML-lightgbm-3.2-ubuntu18.04-py37-cpu\n",
      "AzureML-pytorch-1.7-ubuntu18.04-py37-cuda11-gpu\n",
      "AzureML-tensorflow-2.4-ubuntu18.04-py37-cuda11-gpu\n",
      "AzureML-Triton\n",
      "AzureML-Designer-Score\n",
      "AzureML-VowpalWabbit-8.8.0\n",
      "AzureML-PyTorch-1.3-CPU\n"
     ]
    }
   ],
   "source": [
    "for env in ml_client.environments.list():\n",
    "    print(env.name)"
   ]
  },
  {
   "cell_type": "code",
   "execution_count": null,
   "id": "ab65036b-4504-4702-ae4d-0de80af05b44",
   "metadata": {},
   "outputs": [],
   "source": []
  }
 ],
 "metadata": {
  "kernelspec": {
   "display_name": "Python 3.8 - AzureML",
   "language": "python",
   "name": "python38-azureml"
  },
  "language_info": {
   "codemirror_mode": {
    "name": "ipython",
    "version": 3
   },
   "file_extension": ".py",
   "mimetype": "text/x-python",
   "name": "python",
   "nbconvert_exporter": "python",
   "pygments_lexer": "ipython3",
   "version": "3.8.5"
  }
 },
 "nbformat": 4,
 "nbformat_minor": 5
}
